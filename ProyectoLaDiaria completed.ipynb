{
 "cells": [
  {
   "cell_type": "markdown",
   "metadata": {},
   "source": [
    "$\\Huge\\color{Blue}{\\text{Curator script for \"La Diaria\" - digital version}}$"
   ]
  },
  {
   "cell_type": "markdown",
   "metadata": {},
   "source": [
    "$\\large\\color{brown}{\\text{On how an open convention facilitated access to valuable data, and other things}}$"
   ]
  },
  {
   "cell_type": "markdown",
   "metadata": {},
   "source": [
    "### To execute with graphic interface, just run **Curator()**\n",
    "\n",
    "### To execute directly, use **search(word, section, mail, start_date, end_date)** ----- where:\n",
    "### - **section** could be either: **Titular** or **Seccion** or **Comentario**\n",
    "### - **mail** refers to the email address to be sent the report to\n",
    "### - The **dates' format** is a tuple (YYYY,MM,DD)\n",
    "### - Here an example: **search(\"saber\", 'Titular', 'mail', (2018,12,17), (2020,6,30))**"
   ]
  },
  {
   "cell_type": "markdown",
   "metadata": {},
   "source": [
    "$\\LARGE\\color{brown}{\\text{Let's import libraries}}$\n"
   ]
  },
  {
   "cell_type": "code",
   "execution_count": 11,
   "metadata": {},
   "outputs": [],
   "source": [
    "import pandas as pd\n",
    "import numpy as np\n",
    "from bs4 import BeautifulSoup                                  #some of this libraries may require installation.\n",
    "import requests\n",
    "from datetime import datetime, timedelta\n",
    "import glob\n",
    "from pandas_profiling import ProfileReport\n",
    "from smtplib import SMTP                                           #email outbound packages.\n",
    "from email.mime.text import MIMEText\n",
    "from email.mime.multipart import MIMEMultipart\n",
    "from pretty_html_table import build_table\n",
    "import PySimpleGUI as sg        #GUI interface\n",
    "\n",
    "pd.set_option('max_colwidth', 200)                                 #lenght of Comentario field requires this. \n"
   ]
  },
  {
   "cell_type": "markdown",
   "metadata": {},
   "source": [
    "$\\LARGE\\color{brown}{\\text{Load the dataframe from csv file}}$"
   ]
  },
  {
   "cell_type": "code",
   "execution_count": 13,
   "metadata": {},
   "outputs": [],
   "source": [
    "def convert(row):\n",
    "#print(row)\n",
    "   return '{}'.format(row['Link'],  row.name)\n",
    "\n",
    "df=pd.read_csv('Proyecto La Diaria up to 2021-01-02.csv')         #load the DB from a file, either to work with or update\n",
    "df.columns = ['Fecha', 'Titular', 'Seccion','Comentario', 'Link'] #load of the DB and some formating.\n",
    "df['Link'] = df.apply(convert, axis=1)\n",
    "df=df.drop_duplicates()"
   ]
  },
  {
   "cell_type": "markdown",
   "metadata": {},
   "source": [
    "$\\LARGE\\color{brown}{\\text{Let's define relevant functions to create the dates to scrap, and parse}}$"
   ]
  },
  {
   "cell_type": "code",
   "execution_count": 14,
   "metadata": {},
   "outputs": [],
   "source": [
    "Today=(str(pd.to_datetime(\"today\").date())[0:4], str(pd.to_datetime(\"today\").date())[5:7], str(pd.to_datetime(\"today\").date())[8:10])\n",
    "\n",
    "def fechas(f1=(2014,9,8), f2=(2014,10,1)):                           #f1 and f2 in format (year, month, day)\n",
    "    inicio = datetime(int(f1[0]),int(f1[1]),int(f1[2]))               #first edition for this newspaper was (2014,9,8)                                                                            \n",
    "    fin    = datetime(int(f2[0]),int(f2[1]),int(f2[2]))     \n",
    "    lista_fechas = [(inicio + timedelta(days=d)).strftime(\"%Y-%m-%d\")\n",
    "                    for d in range((fin - inicio).days + 1)] \n",
    "    return lista_fechas                   \n",
    "\n",
    "def fechas_panda(lista_fechas):\n",
    "    f=[]\n",
    "    for i in lista_fechas:\n",
    "        f.append(i.replace('-', '/'))\n",
    "    return f\n",
    "\n",
    "def armador_de_direcciones(lista_fechas):\n",
    "    dates=[]\n",
    "    direcciones=[]\n",
    "    for i in lista_fechas:                                                  #creates the addresses to search\n",
    "        year=i[0:4]\n",
    "        month=i[5:7]\n",
    "        day=i[8:10]\n",
    "        dates = dates + [[year, month, day]]\n",
    "    for j in dates:\n",
    "        direcciones = direcciones + ['https://ladiaria.com.uy/edicion/{}/{}/{}/'.format(j[0], j[1], j[2])]    \n",
    "    return direcciones\n",
    "\n",
    "def convert(row):\n",
    "#print(row)\n",
    "   return '{}'.format(row['Link'],  row.name)"
   ]
  },
  {
   "cell_type": "markdown",
   "metadata": {},
   "source": [
    "$\\LARGE\\color{brown}{\\text{Parse functions}}$"
   ]
  },
  {
   "cell_type": "code",
   "execution_count": 15,
   "metadata": {},
   "outputs": [],
   "source": [
    "  \n",
    "def parse_element(card, selector):\n",
    "    element=card.find('', selector)\n",
    "    if element:\n",
    "        return  \" \".join(element.get_text().replace('\\n', '').split())   #parse functions to extract what is needed.\n",
    "    return \"\"\n",
    "    \n",
    "#titulo_foto= card.find('img')['title'] \n",
    "\n",
    "def parse_cards(date, list_cards, d):\n",
    "    result=[]\n",
    "    for card in list_cards:\n",
    "        title=parse_element(card, {'class':'ld-card__title'})\n",
    "        secc_auth=parse_element(card, {'class':'ld-card__byline'})\n",
    "        coment=parse_element(card, {'class':'ld-card__intro'})\n",
    "        result.append([date, title, secc_auth, coment, d])    \n",
    "    return result"
   ]
  },
  {
   "cell_type": "markdown",
   "metadata": {},
   "source": [
    "$\\LARGE\\color{brown}{\\text{Let's define functions to filter according to the dates, word, and each section}}$"
   ]
  },
  {
   "cell_type": "code",
   "execution_count": 16,
   "metadata": {},
   "outputs": [],
   "source": [
    "def construct_search_titular(word, fecha_incio=(2014,9,8), fecha_final=Today):\n",
    "    Base=fechas_panda(fechas(fecha_incio, fecha_final))\n",
    "    sift=df[df['Fecha'].isin(Base)]\n",
    "    return sift[sift.Titular.str.contains(word,case=False)]          #construct and returns dataframes as results of the queries\n",
    "\n",
    "def construct_search_section(word, fecha_incio=(2014,9,8), fecha_final=Today):\n",
    "    Base=fechas_panda(fechas(fecha_incio, fecha_final))\n",
    "    sift=df[df['Fecha'].isin(Base)]\n",
    "    return sift[sift.Seccion.str.contains(word,case=False, na=False)]  \n",
    "\n",
    "def construct_search_comment(word, fecha_incio=(2014,9,8), fecha_final=Today):\n",
    "    Base=fechas_panda(fechas(fecha_incio, fecha_final))\n",
    "    sift=df[df['Fecha'].isin(Base)]\n",
    "    return sift[sift.Comentario.str.contains(word,case=False, na=False)]"
   ]
  },
  {
   "cell_type": "markdown",
   "metadata": {},
   "source": [
    "$\\LARGE\\color{Blue}{\\text{The Search function}}$\n"
   ]
  },
  {
   "cell_type": "code",
   "execution_count": 17,
   "metadata": {},
   "outputs": [],
   "source": [
    "def search(word, section, mail, fecha_inicio=(2014,9,8), fecha_final=Today):            #search function takes values for 'section' as \"Titular\" or 'Seccion' or 'Comentario'\n",
    "    if section=='Titular':\n",
    "        send_table(construct_search_titular(word, fecha_inicio, fecha_final), word, mail, section, fecha_inicio, fecha_final)        #will send the email to the mail facilitated.\n",
    "        return \"Mail sent successfully.\"\n",
    "    elif section=='Seccion':\n",
    "        send_table(construct_search_section(word, fecha_inicio, fecha_final), word, mail, section, fecha_inicio, fecha_final)                                                              \n",
    "        return \"Mail sent successfully.\"\n",
    "    elif section=='Comentario':\n",
    "        send_table(construct_search_comment(word, fecha_inicio, fecha_final), word, mail, section, fecha_inicio, fecha_final)\n",
    "        return \"Mail sent successfully.\""
   ]
  },
  {
   "cell_type": "markdown",
   "metadata": {},
   "source": [
    "$\\LARGE\\color{brown}{\\text{Functions to send the email as an outcome}}$"
   ]
  },
  {
   "cell_type": "code",
   "execution_count": 18,
   "metadata": {},
   "outputs": [],
   "source": [
    "def send_mail(body, mail, word, section):\n",
    "    message = MIMEMultipart()\n",
    "    message['Subject'] = 'Query results: -{}- in -{}-'.format(word, section)                                                \n",
    "    message['From'] = 'mail'         #shhould be the email to send the mails from\n",
    "    message['To'] = str(mail)  \n",
    "    body_content = body\n",
    "    message.attach(MIMEText(body_content, \"html\"))\n",
    "    msg_body = message.as_string()\n",
    "\n",
    "    server = SMTP('smtp.gmail.com', 587)       \n",
    "    server.starttls()            #It is needeed to allow less secure apps on the gmail settings for this to work.\n",
    "    server.login(message['From'], 'password')   #should be the password of the email to send the mails from\n",
    "    server.sendmail(message['From'], message['To'], msg_body)\n",
    "    server.quit()\n",
    "\n",
    "def send_table(table, word, mail, section, fecha_inicio=(2014,9,8),fecha_final=Today):\n",
    "    output = 'Please see below results for your query: {} in {} period: {}, {}'.format(word, section, fecha_inicio, fecha_final) + build_table(table, 'blue_light') + \"All results informed for '{}' in '{}'' \".format(word, section)\n",
    "    send_mail(output, mail, word, section)\n",
    "    return \"Mail sent successfully.\""
   ]
  },
  {
   "cell_type": "markdown",
   "metadata": {},
   "source": [
    "$\\normalsize\\color{black}{\\text{Scrapping code, only execute if the dates has been updated for scrapping}}$"
   ]
  },
  {
   "cell_type": "code",
   "execution_count": 9,
   "metadata": {},
   "outputs": [],
   "source": [
    "# #this code creates the dataframe and scrap fopr the dates facilitated above. \n",
    "#lista_fechas=fechas((2020,12,19), (2021,1,2))           #these parameters need to be facilitated to scrap the timeframe needed.                                          \n",
    "#direcciones=armador_de_direcciones(lista_fechas)   \n",
    "# master=[]\n",
    "# final=[]\n",
    "# h=0\n",
    "# master=[]\n",
    "# for d in direcciones:\n",
    "#      date=str(d[32:42])\n",
    "#      address= requests.get(d)\n",
    "#      soup = BeautifulSoup(address.text, 'html.parser')\n",
    "#      section=soup.find('section', {'class':'ld-grid-main'})     \n",
    "#      try:\n",
    "#          list_cards=section.find_all('div', {'class':'ld-card'})                                          \n",
    "#          master.append(parse_cards(date, list_cards,d))\n",
    "#      except:\n",
    "#          h=h+1\n",
    "\n",
    "# for i in master:\n",
    "#      for j in i:\n",
    "#          final.append(j)\n",
    "# df2=pd.DataFrame(final)\n",
    "# df2.columns = ['Fecha', 'Titular', 'Seccion','Comentario', 'Link'] #load of the DB and some formating.\n",
    "# df2['Link'] = df2.apply(convert, axis=1)\n",
    "# df2=df2.drop_duplicates()\n",
    "#df2=df2.iloc[::-1]\n",
    "#df2.reset_index()"
   ]
  },
  {
   "cell_type": "markdown",
   "metadata": {},
   "source": [
    "$\\normalsize\\color{black}{\\text{Update the dataframe. Only execute if needed}}$\n"
   ]
  },
  {
   "cell_type": "code",
   "execution_count": 28,
   "metadata": {},
   "outputs": [],
   "source": [
    "#result = pd.concat([df2,df])\n",
    "#result.to_csv('Proyecto La Diaria up to {}.csv'.format(fechas[-1]), index=False)"
   ]
  },
  {
   "cell_type": "markdown",
   "metadata": {},
   "source": [
    "$\\LARGE\\color{Blue}{\\text{Curator() main function to use the search with graphic interface}}$\n"
   ]
  },
  {
   "cell_type": "code",
   "execution_count": 43,
   "metadata": {},
   "outputs": [],
   "source": [
    "##Note: if the date field is left blank will create an error\n",
    "def Curator():\n",
    "    sg.theme('SandyBeach')      \n",
    "    fecha_inicio=[]\n",
    "    fecha_final=[]\n",
    "    layout = [ \n",
    "        [sg.Text('Please enter the dates to look at, the word to search, the section (Titular, Seccion o Comentario) and the email to receive the report.')], \n",
    "        \n",
    "        [sg.Text('Start Date in format DD/MM/YYYY', size =(27, 1)), sg.InputText('8/9/2014')],\n",
    "        [sg.Text('End Date in format DD/MM/YYYY', size =(27, 1)), sg.InputText('{}/{}/{}'.format(Today[2], Today[1], Today[0]))],\n",
    "        [sg.Text('Word', size =(15, 1)), sg.InputText()], \n",
    "        [sg.Text('Section', size =(15, 1)), sg.InputText()], \n",
    "        [sg.Text('Email', size =(15, 1)), sg.InputText()], \n",
    "        [sg.Submit(), sg.Cancel()] \n",
    "    ] \n",
    "  \n",
    "    window = sg.Window('La Diaria - Curator', layout) \n",
    "    event, values = window.read() \n",
    "    window.close() \n",
    "    fi=values[0].split('/')[::-1]\n",
    "    ff=values[1].split('/')[::-1]\n",
    "    for i in fi:\n",
    "        fecha_inicio.append(int(i))\n",
    "    fecha_inicio=tuple(fecha_inicio)\n",
    "    for i in ff:\n",
    "        fecha_final.append(int(i))\n",
    "    fecha_final=tuple(fecha_final)  \n",
    "                   \n",
    "    search(values[2], values[3], values[4], fecha_inicio, fecha_final)\n",
    "    return \"Mail Sent\""
   ]
  },
  {
   "cell_type": "markdown",
   "metadata": {},
   "source": [
    "$\\LARGE\\color{Blue}{\\text{Example of search with dates, if not provided, will be searched in all the dataframe}}$"
   ]
  },
  {
   "cell_type": "code",
   "execution_count": 46,
   "metadata": {},
   "outputs": [
    {
     "data": {
      "text/plain": [
       "'Mail sent successfully.'"
      ]
     },
     "execution_count": 46,
     "metadata": {},
     "output_type": "execute_result"
    }
   ],
   "source": [
    "search(\"dormir\", 'Titular', 'mail', (2018,12,17), (2020,6,30)) #mail should be the one to be sent the report to.\n"
   ]
  },
  {
   "cell_type": "code",
   "execution_count": 48,
   "metadata": {},
   "outputs": [
    {
     "data": {
      "text/plain": [
       "'Mail sent successfully.'"
      ]
     },
     "execution_count": 48,
     "metadata": {},
     "output_type": "execute_result"
    }
   ],
   "source": [
    "search(\"dormir\", 'Titular', 'mail')  #Search in all dataframe  #mail should be the one to be sent the report to."
   ]
  },
  {
   "cell_type": "markdown",
   "metadata": {},
   "source": [
    "$\\LARGE\\color{Blue}{\\text{To Run the Graphic interface, execute Curator()}}$"
   ]
  },
  {
   "cell_type": "code",
   "execution_count": null,
   "metadata": {},
   "outputs": [],
   "source": [
    "Curator()"
   ]
  }
 ],
 "metadata": {
  "kernelspec": {
   "display_name": "Python 3",
   "language": "python",
   "name": "python3"
  },
  "language_info": {
   "codemirror_mode": {
    "name": "ipython",
    "version": 3
   },
   "file_extension": ".py",
   "mimetype": "text/x-python",
   "name": "python",
   "nbconvert_exporter": "python",
   "pygments_lexer": "ipython3",
   "version": "3.7.1"
  }
 },
 "nbformat": 4,
 "nbformat_minor": 4
}
